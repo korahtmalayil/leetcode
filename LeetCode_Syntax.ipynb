{
  "nbformat": 4,
  "nbformat_minor": 0,
  "metadata": {
    "colab": {
      "provenance": [],
      "authorship_tag": "ABX9TyNQhsYSjE0xCfPSgSmzmUEe",
      "include_colab_link": true
    },
    "kernelspec": {
      "name": "python3",
      "display_name": "Python 3"
    },
    "language_info": {
      "name": "python"
    }
  },
  "cells": [
    {
      "cell_type": "markdown",
      "metadata": {
        "id": "view-in-github",
        "colab_type": "text"
      },
      "source": [
        "<a href=\"https://colab.research.google.com/github/korahtmalayil/leetcode/blob/main/LeetCode_Syntax.ipynb\" target=\"_parent\"><img src=\"https://colab.research.google.com/assets/colab-badge.svg\" alt=\"Open In Colab\"/></a>"
      ]
    },
    {
      "cell_type": "code",
      "execution_count": 13,
      "metadata": {
        "id": "mEpNv9Lgn5Nw"
      },
      "outputs": [],
      "source": [
        "from typing import List\n",
        "\n",
        "class Solution:\n",
        "  def func(self, strs:List[str]) -> List[List[str]]:\n",
        "    return 1"
      ]
    },
    {
      "cell_type": "code",
      "source": [
        "sol = Solution()\n",
        "sol.func(['a', 'b'])"
      ],
      "metadata": {
        "colab": {
          "base_uri": "https://localhost:8080/"
        },
        "id": "JmroROFxoJil",
        "outputId": "ac263e86-fc21-4d86-ef3c-cb6fcaca42cb"
      },
      "execution_count": 14,
      "outputs": [
        {
          "output_type": "execute_result",
          "data": {
            "text/plain": [
              "1"
            ]
          },
          "metadata": {},
          "execution_count": 14
        }
      ]
    },
    {
      "cell_type": "code",
      "source": [
        "!git status"
      ],
      "metadata": {
        "id": "rK12LFEZoOjz",
        "colab": {
          "base_uri": "https://localhost:8080/"
        },
        "outputId": "dfec494c-2d1b-4c9e-ec1e-300cbd038c0d"
      },
      "execution_count": 16,
      "outputs": [
        {
          "output_type": "stream",
          "name": "stdout",
          "text": [
            "fatal: not a git repository (or any of the parent directories): .git\n"
          ]
        }
      ]
    },
    {
      "cell_type": "code",
      "source": [],
      "metadata": {
        "id": "GkTf2cDQqPi8"
      },
      "execution_count": null,
      "outputs": []
    }
  ]
}